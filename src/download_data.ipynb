{
 "cells": [
  {
   "cell_type": "markdown",
   "metadata": {},
   "source": [
    "Purpose:\n",
    "    1. Download all necessary data from the Fire and Aviation Management Web Application (FAMWEB) website\n",
    "    2. Unpack all data\n",
    "    3. Select necessary dataframes from each Access Database to be fed into the cleaning routine."
   ]
  },
  {
   "cell_type": "markdown",
   "metadata": {},
   "source": [
    "Import all necessary packages"
   ]
  },
  {
   "cell_type": "code",
   "execution_count": 1,
   "metadata": {},
   "outputs": [],
   "source": [
    "import os.path as op\n",
    "import os\n",
    "import matplotlib.pyplot as plt\n",
    "from urllib.request import urlretrieve\n",
    "import subprocess\n",
    "import fnmatch\n",
    "import stat\n",
    "import pyodbc\n",
    "import csv\n",
    "\n",
    "plt.style.use('ggplot')"
   ]
  },
  {
   "cell_type": "markdown",
   "metadata": {},
   "source": [
    "Create a list of all web URLs to pull the data from"
   ]
  },
  {
   "cell_type": "code",
   "execution_count": 2,
   "metadata": {},
   "outputs": [],
   "source": [
    "data_urls = []\n",
    "for i in range(1999,2018):\n",
    "        data_urls.append('https://fam.nwcg.gov/fam-web/sit/sit_' + str(i) + '.exe')"
   ]
  },
  {
   "cell_type": "markdown",
   "metadata": {},
   "source": [
    "Create a directory that the raw ICS-209 data will live.  "
   ]
  },
  {
   "cell_type": "code",
   "execution_count": 3,
   "metadata": {},
   "outputs": [],
   "source": [
    "download_dirs = '../data/ics_209/raw'\n",
    "if not op.exists(download_dirs):\n",
    "    os.makedirs(download_dirs)"
   ]
  },
  {
   "cell_type": "code",
   "execution_count": 4,
   "metadata": {},
   "outputs": [],
   "source": [
    "# For every line in the file\n",
    "for url in data_urls:\n",
    "    # Split on the rightmost / and take everything on the right side of that\n",
    "    name = url.rsplit('/', 1)[-1]\n",
    "\n",
    "    # Combine the name and the downloads directory to get the local filename\n",
    "    filename = os.path.join(download_dirs, os.path.basename(name))\n",
    "\n",
    "    # Download the file if it does not exist\n",
    "    if not os.path.isfile(filename):\n",
    "        urlretrieve(url, filename)"
   ]
  },
  {
   "cell_type": "markdown",
   "metadata": {},
   "source": [
    "Unpack all of the exe datafiles"
   ]
  },
  {
   "cell_type": "code",
   "execution_count": 5,
   "metadata": {},
   "outputs": [],
   "source": [
    "def filetree(top):\n",
    "    for dirpath, dirnames, fnames in os.walk(top):\n",
    "        for fname in fnames:\n",
    "            if fnmatch.fnmatch(fname, '*.exe'):\n",
    "                yield os.path.join(dirpath, fname)\n",
    "                        \n",
    "files_to_unpack = list(filetree(download_dirs))\n",
    "\n",
    "# changes the permissions on the files so there is read, write, and execute\n",
    "for i in files_to_unpack:\n",
    "    st = os.stat(i)\n",
    "    os.chmod(i, st.st_mode | stat.S_IEXEC)"
   ]
  },
  {
   "cell_type": "markdown",
   "metadata": {},
   "source": [
    "Note (on April 5, 2018):\n",
    "\n",
    "The *.exe* files are not unpacking nicely.  We are throwing an error stating `OSError: [Errno 8] Exec format error: `.  I have a feeling this is because the .exe file is not a typical program, but instead acting more like a zipped file. For now I manually extracted the access database so I can code up the layer extractions.\n",
    "\n",
    "Below is the code that was not working and the associated error.  An alternative to `suprocess.call` is using `os.sytem`.  When using `os.system` there is no error generated but nothing happens either...."
   ]
  },
  {
   "cell_type": "code",
   "execution_count": null,
   "metadata": {},
   "outputs": [],
   "source": [
    "for i in files_to_unpack:\n",
    "    subprocess.call(i)"
   ]
  },
  {
   "cell_type": "markdown",
   "metadata": {},
   "source": [
    "Assuming that you either manually open each .exe file or got the code snippet above to work, now we can start extracting each of the layers within the Microsoft Access databases for each year that is needed."
   ]
  },
  {
   "cell_type": "code",
   "execution_count": 6,
   "metadata": {},
   "outputs": [],
   "source": [
    "unpacked_dir = '../data/ics_209/unpacked'\n",
    "if not op.exists(unpacked_dir):\n",
    "    os.makedirs(unpacked_dir)"
   ]
  },
  {
   "cell_type": "code",
   "execution_count": null,
   "metadata": {},
   "outputs": [],
   "source": [
    "# MS ACCESS DB CONNECTION\n",
    "pypyodbc.lowercase = False\n",
    "conn = pypyodbc.connect(\n",
    "    r\"Driver={Microsoft Access Driver (*.mdb, *.accdb)};\" +\n",
    "    r\"Dbq=./unpacked_ics209/sit_1999.mdb;\")\n",
    "\n",
    "# OPEN CURSOR AND EXECUTE SQL\n",
    "cur = conn.cursor()\n",
    "cur.execute(\"SELECT * FROM Table1\");\n",
    "\n",
    "# OPEN CSV AND ITERATE THROUGH RESULTS\n",
    "with open('Output.csv', 'w', newline='') as f:\n",
    "    writer = csv.writer(f)    \n",
    "    for row in cur.fetchall() :\n",
    "        writer.writerow(row)\n",
    "\n",
    "cur.close()\n",
    "conn.close()"
   ]
  },
  {
   "cell_type": "code",
   "execution_count": 12,
   "metadata": {},
   "outputs": [
    {
     "name": "stdout",
     "output_type": "stream",
     "text": [
      "../data/ics_209/unpacked/sit209-2009.accdb\n"
     ]
    },
    {
     "ename": "Error",
     "evalue": "('01000', \"[01000] [unixODBC][Driver Manager]Can't open lib 'Microsoft Access Driver (*.mdb, *.accdb)' : file not found (0) (SQLDriverConnect)\")",
     "output_type": "error",
     "traceback": [
      "\u001b[0;31m---------------------------------------------------------------------------\u001b[0m",
      "\u001b[0;31mError\u001b[0m                                     Traceback (most recent call last)",
      "\u001b[0;32m<ipython-input-12-c293acb34128>\u001b[0m in \u001b[0;36m<module>\u001b[0;34m()\u001b[0m\n\u001b[1;32m      2\u001b[0m \u001b[0mfile\u001b[0m \u001b[0;34m=\u001b[0m \u001b[0munpacked_dir\u001b[0m \u001b[0;34m+\u001b[0m \u001b[0;34m'/sit209-2009.accdb'\u001b[0m\u001b[0;34m\u001b[0m\u001b[0m\n\u001b[1;32m      3\u001b[0m \u001b[0mprint\u001b[0m\u001b[0;34m(\u001b[0m\u001b[0mfile\u001b[0m\u001b[0;34m)\u001b[0m\u001b[0;34m\u001b[0m\u001b[0m\n\u001b[0;32m----> 4\u001b[0;31m \u001b[0mconn\u001b[0m \u001b[0;34m=\u001b[0m \u001b[0mpyodbc\u001b[0m\u001b[0;34m.\u001b[0m\u001b[0mconnect\u001b[0m\u001b[0;34m(\u001b[0m\u001b[0;34m'DRIVER={Microsoft Access Driver (*.mdb, *.accdb)};DBQ='\u001b[0m\u001b[0;34m+\u001b[0m\u001b[0mfile\u001b[0m\u001b[0;34m)\u001b[0m  \u001b[0;31m#\u001b[0m\u001b[0;34m\u001b[0m\u001b[0m\n\u001b[0m\u001b[1;32m      5\u001b[0m \u001b[0;34m\u001b[0m\u001b[0m\n\u001b[1;32m      6\u001b[0m \u001b[0;31m#cnxn = pyodbc.connect(conn_str)\u001b[0m\u001b[0;34m\u001b[0m\u001b[0;34m\u001b[0m\u001b[0m\n",
      "\u001b[0;31mError\u001b[0m: ('01000', \"[01000] [unixODBC][Driver Manager]Can't open lib 'Microsoft Access Driver (*.mdb, *.accdb)' : file not found (0) (SQLDriverConnect)\")"
     ]
    }
   ],
   "source": [
    "# MS ACCESS DB CONNECTION\n",
    "file = unpacked_dir + '/sit209-2009.accdb'\n",
    "print(file)\n",
    "conn = pyodbc.connect('DRIVER={Microsoft Access Driver (*.mdb, *.accdb)};DBQ='+file)  #\n",
    "\n",
    "#cnxn = pyodbc.connect(conn_str)\n",
    "#crsr = cnxn.cursor()\n",
    "#for table_info in crsr.tables(tableType='TABLE'):\n",
    "#    print(table_info.table_name)"
   ]
  },
  {
   "cell_type": "code",
   "execution_count": null,
   "metadata": {},
   "outputs": [],
   "source": []
  }
 ],
 "metadata": {
  "kernelspec": {
   "display_name": "Python 3",
   "language": "python",
   "name": "python3"
  },
  "language_info": {
   "codemirror_mode": {
    "name": "ipython",
    "version": 3
   },
   "file_extension": ".py",
   "mimetype": "text/x-python",
   "name": "python",
   "nbconvert_exporter": "python",
   "pygments_lexer": "ipython3",
   "version": "3.6.5"
  }
 },
 "nbformat": 4,
 "nbformat_minor": 2
}
